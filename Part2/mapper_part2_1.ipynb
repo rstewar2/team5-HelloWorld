{
 "cells": [
  {
   "cell_type": "code",
   "execution_count": 1,
   "metadata": {},
   "outputs": [],
   "source": [
    "#!/usr/bin/python\n",
    "# Let Hadoop know we want to use Python to execute our file\n",
    "\n",
    "from itertools import cycle\n",
    "import csv\n",
    "import sys\n",
    "# This module provides access to some variables used or \n",
    "# maintained by the interpreter and to functions that interact strongly with the interpreter. It is always available.\n",
    "# https://docs.python.org/3/library/sys.html\n"
   ]
  },
  {
   "cell_type": "code",
   "execution_count": 2,
   "metadata": {},
   "outputs": [],
   "source": [
    "class mvMapper(object):\n",
    "# Turn our records into key value pairs\n",
    "\tdef __init__(self, infile=sys.stdin, separator=',', beta=0.85):\n",
    "    # Prepare three arguments, naming the object, what is our input file, and what is our seperator\n",
    "\t\tself.infile = infile # Rename infile to know what infile we are referencing\n",
    "\t\tself.separator = separator # Rename seperator to know what objects seperator we are referencing\n",
    "\t\tself.beta = beta # Beta is a chosen constant to allow for random teleportation\n",
    "\t\tself.vectorize = dict() # create a dictionary variable that is consistent with our other variable naming\n",
    "\t\tself.e = 1.0/875713\n",
    "\t\t#self.vectorize = {1: 9.0/24, 2: 5.0/24, 3: 5.0/24, 4:5.0/24}\n",
    "\t\t\n",
    "\t\t\n",
    "\t\twith open('initial_V.txt') as vector:\n",
    "\t        \tfor v in vector:\n",
    "\t            \t\telements = v.split(self.separator)\n",
    "\t            \t\tsource = int(elements[0].strip())\n",
    "\t            \t\tvalue = float(elements[1].strip())\n",
    "\t            \t\tself.vectorize[source] = value\n",
    "\t\t\t\n",
    "\n",
    "\tdef map(self): # Here we will actually output our Key, Value pair for the Reducer to take in\n",
    "\t\treader = csv.reader(self.infile)\t\t\n",
    "\t\tfor row in reader: # Begin looping through the object line by line up to the end of the vector file, which we know is four lines long\n",
    "\t\t\tsource = int(row[0]) # Set our Source pages to column 0\n",
    "\t\t\tdest = int(row[1]) # Set our Destination pages to column 1\n",
    "\t\t\tprob = float(row[2]) # Set our probability to column 2. We will need to find a way to create this in part 2.\n",
    "\t\t\tif source in self.vectorize:\n",
    "\t\t\t\tself.emit(dest, self.beta * prob * self.vectorize[source] + (1 - self.beta) * self.e) # Output our Key, Value Pair, (Destination Page, Weighted Vector = 1/rows*probability path)\n",
    "\n",
    "\tdef emit(self, key, value): # Emmitting Formatting\n",
    "\t\tsys.stdout.write('{0}{1}{2}\\n'.format(key, self.separator, value))\n",
    "\n",
    "\t\"\"\"\n",
    "\tdef status(self, message): # Basic Troubleshooting we may call later\n",
    "\t\tsys.stderr.write(\"reporter:status:{0}\\n\".format(message))\n",
    "\n",
    "\tdef read(self): # Remoce trailing whitespace function\n",
    "\t\tfor line in self.infile:\n",
    "\t\t\tyield line.rstrip()\n",
    "\t\t\t\n",
    "\tdef __iter__(self): # Set Object as the iterator going through line by line through self that doesn't minus trailing white space\n",
    "\t\tfor line in self.read():\n",
    "\t\t\tyield line\n",
    "\t\"\"\""
   ]
  },
  {
   "cell_type": "code",
   "execution_count": 3,
   "metadata": {},
   "outputs": [],
   "source": [
    "if __name__ == '__main__': # Makes sure that all code is executed at the bottom and make sure that script being imported to make sure that the code is completely done before handing it over to Hadoop, this allows for better debugging.\n",
    "\tmvMapper().map()"
   ]
  },
  {
   "cell_type": "code",
   "execution_count": null,
   "metadata": {},
   "outputs": [],
   "source": []
  }
 ],
 "metadata": {
  "kernelspec": {
   "display_name": "Python 3",
   "language": "python",
   "name": "python3"
  },
  "language_info": {
   "codemirror_mode": {
    "name": "ipython",
    "version": 3
   },
   "file_extension": ".py",
   "mimetype": "text/x-python",
   "name": "python",
   "nbconvert_exporter": "python",
   "pygments_lexer": "ipython3",
   "version": "3.8.2"
  }
 },
 "nbformat": 4,
 "nbformat_minor": 4
}
