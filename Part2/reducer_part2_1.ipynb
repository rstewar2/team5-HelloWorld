{
 "cells": [
  {
   "cell_type": "code",
   "execution_count": 1,
   "metadata": {},
   "outputs": [],
   "source": [
    "#!/usr/bin/env python\n",
    "# coding: utf-8\n",
    "\n",
    "# In[ ]:\n",
    "\n",
    "\n",
    "#!/usr/bin/python\n",
    "# Let Hadoop know we want to use Python to execute our file\n",
    "\n",
    "import sys # Lets us use infile iterations\n",
    "from itertools import groupby # Allows us to use groupby\n",
    "from operator import itemgetter # The itemgetter operator simply specifies by which value of each tuple being yielded that should be grouped on\n"
   ]
  },
  {
   "cell_type": "code",
   "execution_count": 2,
   "metadata": {},
   "outputs": [],
   "source": [
    "class mvReducer(object): # After Shuffling and Sorting, reduce key value pairs\n",
    "\tdef __init__(self, infile=sys.stdin, separator=',', beta=0.85): # Prepare three arguments, naming the object, what is our input file, and what is our seperator\n",
    "\t\tself.infile = infile\n",
    "\t\tself.separator = separator\n",
    "\t\tself.beta = beta\n",
    "\n",
    "\tdef reducer(self):\n",
    "\t\tfor dest, values in self: # iterate through the Key, Value pair through the object\n",
    "\t\t\tself.emit(dest, sum(float(prob[1]) for prob in values))  # emit the key with value. Value = sum of column 1 of the inputted group defined by __iter__\n",
    "\n",
    "\tdef emit(self, key, value): # formatting emmiter settings\n",
    "\t\tsys.stdout.write('{0}{1}{2}\\n'.format(key, self.separator, value))\n",
    "\n",
    "\tdef read(self): # Again making sure we don't have trailing whitespace\n",
    "\t\tfor line in self.infile:\n",
    "\t\t\tyield line.rstrip()\n",
    "\n",
    "\tdef __iter__(self): # Iterate through by groups of groupby(key),  straight from bengfort\n",
    "\t\tgenerator = (line.split(self.separator, 1) for line in self.read()) \n",
    "\t\tfor item in groupby(generator, itemgetter(0)):\n",
    "\t\t\tyield item"
   ]
  },
  {
   "cell_type": "code",
   "execution_count": 3,
   "metadata": {},
   "outputs": [],
   "source": [
    "if __name__ == '__main__':\n",
    "\tmvReducer().reducer()"
   ]
  },
  {
   "cell_type": "code",
   "execution_count": null,
   "metadata": {},
   "outputs": [],
   "source": []
  }
 ],
 "metadata": {
  "kernelspec": {
   "display_name": "Python 3",
   "language": "python",
   "name": "python3"
  },
  "language_info": {
   "codemirror_mode": {
    "name": "ipython",
    "version": 3
   },
   "file_extension": ".py",
   "mimetype": "text/x-python",
   "name": "python",
   "nbconvert_exporter": "python",
   "pygments_lexer": "ipython3",
   "version": "3.8.2"
  }
 },
 "nbformat": 4,
 "nbformat_minor": 4
}
