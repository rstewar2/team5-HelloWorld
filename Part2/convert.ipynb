{
 "cells": [
  {
   "cell_type": "code",
   "execution_count": 1,
   "metadata": {},
   "outputs": [
    {
     "data": {
      "text/plain": [
       "'\\ndef iterate_V(matrix, vector):\\n    e = np.ones(get_total_count(),1)\\n    part1 = np.dot(BETA, np.dot(matrix,vector))\\n    part2 = np.dot((1 - BETA), np.dot(1.0/get_total_count))\\n    return np.add(part1, part2)\\n'"
      ]
     },
     "execution_count": 1,
     "metadata": {},
     "output_type": "execute_result"
    }
   ],
   "source": [
    "import csv\n",
    "import numpy as np\n",
    "import re\n",
    "\n",
    "SEP = ','\n",
    "NODES = dict()\n",
    "total_nodes = 875713\n",
    "#BETA = 0.85\n",
    "\n",
    "\"\"\"\n",
    "def create_M():\n",
    "    M = np.zeros((get_total_count(), get_total_count()))\n",
    "    for key, val in NODES.items():\n",
    "        total_connections = len(val)\n",
    "        for v in val:\n",
    "            M[key-1, v-1] = 1.0/total_connections\n",
    "    return M\n",
    "\"\"\"\n",
    "\n",
    "\"\"\"\n",
    "def iterate_V(matrix, vector):\n",
    "    e = np.ones(get_total_count(),1)\n",
    "    part1 = np.dot(BETA, np.dot(matrix,vector))\n",
    "    part2 = np.dot((1 - BETA), np.dot(1.0/get_total_count))\n",
    "    return np.add(part1, part2)\n",
    "\"\"\""
   ]
  },
  {
   "cell_type": "code",
   "execution_count": 2,
   "metadata": {},
   "outputs": [],
   "source": [
    "def read_web_file():\n",
    "    with open('web-Google.txt', 'r') as input_file:\n",
    "        for row in input_file:\n",
    "            if row[0] == '#': continue\n",
    "            nodes = row.strip().split()\n",
    "            source = int(nodes[0])\n",
    "            dest = int(nodes[1])\n",
    "\n",
    "            if source not in NODES.keys(): NODES[source] = [dest]\n",
    "            else: NODES[source].append(dest)"
   ]
  },
  {
   "cell_type": "code",
   "execution_count": 3,
   "metadata": {},
   "outputs": [],
   "source": [
    "def get_total_count():\n",
    "    return len(NODES)"
   ]
  },
  {
   "cell_type": "code",
   "execution_count": 4,
   "metadata": {},
   "outputs": [],
   "source": [
    "def create_v0():\n",
    "    v_initial = dict()\n",
    "    for key in NODES.keys(): v_initial[key] = 1/875713\n",
    "    return v_initial"
   ]
  },
  {
   "cell_type": "code",
   "execution_count": 5,
   "metadata": {},
   "outputs": [],
   "source": [
    "def write_M_to_file():\n",
    "    with open('Google_M.csv', 'w') as output:\n",
    "        for key, val in NODES.items():\n",
    "            for v in val:\n",
    "                output.write('{0}{1}{2}{3}{4}\\n'.format(key, SEP, v, SEP, 1.0/len(val)))"
   ]
  },
  {
   "cell_type": "code",
   "execution_count": 6,
   "metadata": {},
   "outputs": [],
   "source": [
    "def write_V_to_file(vector):\n",
    "    with open('initial_V.txt', 'w') as output:\n",
    "        for key, val in vector.items():\n",
    "            output.write('{0}{1}{2}\\n'.format(key, SEP, val))"
   ]
  },
  {
   "cell_type": "code",
   "execution_count": 7,
   "metadata": {},
   "outputs": [],
   "source": [
    "read_web_file()\n",
    "#MAT = create_M()\n",
    "V_0 = create_v0()\n",
    "#iterate_V(MAT, V_0)\n",
    "write_M_to_file()\n",
    "write_V_to_file(V_0)"
   ]
  },
  {
   "cell_type": "code",
   "execution_count": 8,
   "metadata": {},
   "outputs": [
    {
     "data": {
      "text/plain": [
       "739454"
      ]
     },
     "execution_count": 8,
     "metadata": {},
     "output_type": "execute_result"
    }
   ],
   "source": [
    "len(V_0)"
   ]
  },
  {
   "cell_type": "code",
   "execution_count": null,
   "metadata": {},
   "outputs": [],
   "source": []
  }
 ],
 "metadata": {
  "kernelspec": {
   "display_name": "Python 3",
   "language": "python",
   "name": "python3"
  },
  "language_info": {
   "codemirror_mode": {
    "name": "ipython",
    "version": 3
   },
   "file_extension": ".py",
   "mimetype": "text/x-python",
   "name": "python",
   "nbconvert_exporter": "python",
   "pygments_lexer": "ipython3",
   "version": "3.8.2"
  }
 },
 "nbformat": 4,
 "nbformat_minor": 4
}
